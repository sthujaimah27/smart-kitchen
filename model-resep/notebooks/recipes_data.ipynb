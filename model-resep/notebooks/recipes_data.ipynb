{
  "nbformat": 4,
  "nbformat_minor": 0,
  "metadata": {
    "colab": {
      "provenance": []
    },
    "kernelspec": {
      "name": "python3",
      "display_name": "Python 3"
    },
    "language_info": {
      "name": "python"
    }
  },
  "cells": [
    {
      "cell_type": "code",
      "execution_count": null,
      "metadata": {
        "colab": {
          "base_uri": "https://localhost:8080/"
        },
        "id": "0DchyYQLipGc",
        "outputId": "8a87d640-e3b2-4cec-8d91-80d8698aa052"
      },
      "outputs": [
        {
          "output_type": "stream",
          "name": "stdout",
          "text": [
            "Mounted at /content/drive\n"
          ]
        }
      ],
      "source": [
        "# Import Library\n",
        "import pandas as pd\n",
        "import numpy as np\n",
        "import matplotlib.pyplot as plt\n",
        "import seaborn as sns\n",
        "\n",
        "# Connect to Google Drive\n",
        "from google.colab import drive\n",
        "drive.mount('/content/drive')\n",
        "\n",
        "# Load Dataset\n",
        "folder_path = '/content/drive/My Drive/bangkit/project/dataset/food-recipes/'"
      ]
    },
    {
      "cell_type": "code",
      "source": [
        "import os\n",
        "\n",
        "# List semua nama file\n",
        "file_names = [\n",
        "    'dataset-ayam.csv',\n",
        "    'dataset-ikan.csv',\n",
        "    'dataset-kambing.csv',\n",
        "    'dataset-tahu.csv',\n",
        "    'dataset-sapi.csv',\n",
        "    'dataset-telur.csv',\n",
        "    'dataset-udang.csv',\n",
        "    'dataset-tempe.csv'\n",
        "]\n",
        "\n",
        "# Buat list untuk menyimpan DataFrame\n",
        "dataframes = []\n",
        "\n",
        "# Membaca setiap dataset\n",
        "for file in file_names:\n",
        "    file_path = os.path.join(folder_path, file)\n",
        "    df = pd.read_csv(file_path)  # Sesuaikan delimiter jika tidak menggunakan koma\n",
        "    # Menambahkan kolom untuk kategori (nama dataset)\n",
        "    category = file.split('-')[1].split('.')[0]  # Mengambil nama kategori dari nama file\n",
        "    df['category'] = category\n",
        "    dataframes.append(df)\n",
        "\n",
        "# Menggabungkan semua DataFrame\n",
        "recipes_data = pd.concat(dataframes, ignore_index=True)\n",
        "\n",
        "# Melihat hasil gabungan\n",
        "print(recipes_data.shape)\n",
        "recipes_data.head()"
      ],
      "metadata": {
        "colab": {
          "base_uri": "https://localhost:8080/",
          "height": 536
        },
        "id": "VcU10lCUkayU",
        "outputId": "cd21f378-b809-4755-9e62-72718d8cf415"
      },
      "execution_count": null,
      "outputs": [
        {
          "output_type": "stream",
          "name": "stdout",
          "text": [
            "(15641, 6)\n"
          ]
        },
        {
          "output_type": "execute_result",
          "data": {
            "text/plain": [
              "                      Title  \\\n",
              "0          Ayam Woku Manado   \n",
              "1  Ayam goreng tulang lunak   \n",
              "2          Ayam cabai kawin   \n",
              "3               Ayam Geprek   \n",
              "4               Minyak Ayam   \n",
              "\n",
              "                                         Ingredients  \\\n",
              "0  1 Ekor Ayam Kampung (potong 12)--2 Buah Jeruk ...   \n",
              "1  1 kg ayam (dipotong sesuai selera jangan kecil...   \n",
              "2  1/4 kg ayam--3 buah cabai hijau besar--7 buah ...   \n",
              "3  250 gr daging ayam (saya pakai fillet)--Secuku...   \n",
              "4  400 gr kulit ayam & lemaknya--8 siung bawang p...   \n",
              "\n",
              "                                               Steps  Loves  \\\n",
              "0  Cuci bersih ayam dan tiriskan. Lalu peras jeru...      1   \n",
              "1  Haluskan bumbu2nya (BaPut, ketumbar, kemiri, k...      1   \n",
              "2  Panaskan minyak di dalam wajan. Setelah minyak...      2   \n",
              "3  Goreng ayam seperti ayam krispi--Ulek semua ba...     10   \n",
              "4  Cuci bersih kulit ayam. Sisihkan--Ambil 50 ml ...      4   \n",
              "\n",
              "                                          URL category  \n",
              "0          /id/resep/4473027-ayam-woku-manado     ayam  \n",
              "1  /id/resep/4471956-ayam-goreng-tulang-lunak     ayam  \n",
              "2          /id/resep/4473057-ayam-cabai-kawin     ayam  \n",
              "3               /id/resep/4473023-ayam-geprek     ayam  \n",
              "4               /id/resep/4427438-minyak-ayam     ayam  "
            ],
            "text/html": [
              "\n",
              "  <div id=\"df-78add98d-0ed6-43e7-8604-1e4966979cd9\" class=\"colab-df-container\">\n",
              "    <div>\n",
              "<style scoped>\n",
              "    .dataframe tbody tr th:only-of-type {\n",
              "        vertical-align: middle;\n",
              "    }\n",
              "\n",
              "    .dataframe tbody tr th {\n",
              "        vertical-align: top;\n",
              "    }\n",
              "\n",
              "    .dataframe thead th {\n",
              "        text-align: right;\n",
              "    }\n",
              "</style>\n",
              "<table border=\"1\" class=\"dataframe\">\n",
              "  <thead>\n",
              "    <tr style=\"text-align: right;\">\n",
              "      <th></th>\n",
              "      <th>Title</th>\n",
              "      <th>Ingredients</th>\n",
              "      <th>Steps</th>\n",
              "      <th>Loves</th>\n",
              "      <th>URL</th>\n",
              "      <th>category</th>\n",
              "    </tr>\n",
              "  </thead>\n",
              "  <tbody>\n",
              "    <tr>\n",
              "      <th>0</th>\n",
              "      <td>Ayam Woku Manado</td>\n",
              "      <td>1 Ekor Ayam Kampung (potong 12)--2 Buah Jeruk ...</td>\n",
              "      <td>Cuci bersih ayam dan tiriskan. Lalu peras jeru...</td>\n",
              "      <td>1</td>\n",
              "      <td>/id/resep/4473027-ayam-woku-manado</td>\n",
              "      <td>ayam</td>\n",
              "    </tr>\n",
              "    <tr>\n",
              "      <th>1</th>\n",
              "      <td>Ayam goreng tulang lunak</td>\n",
              "      <td>1 kg ayam (dipotong sesuai selera jangan kecil...</td>\n",
              "      <td>Haluskan bumbu2nya (BaPut, ketumbar, kemiri, k...</td>\n",
              "      <td>1</td>\n",
              "      <td>/id/resep/4471956-ayam-goreng-tulang-lunak</td>\n",
              "      <td>ayam</td>\n",
              "    </tr>\n",
              "    <tr>\n",
              "      <th>2</th>\n",
              "      <td>Ayam cabai kawin</td>\n",
              "      <td>1/4 kg ayam--3 buah cabai hijau besar--7 buah ...</td>\n",
              "      <td>Panaskan minyak di dalam wajan. Setelah minyak...</td>\n",
              "      <td>2</td>\n",
              "      <td>/id/resep/4473057-ayam-cabai-kawin</td>\n",
              "      <td>ayam</td>\n",
              "    </tr>\n",
              "    <tr>\n",
              "      <th>3</th>\n",
              "      <td>Ayam Geprek</td>\n",
              "      <td>250 gr daging ayam (saya pakai fillet)--Secuku...</td>\n",
              "      <td>Goreng ayam seperti ayam krispi--Ulek semua ba...</td>\n",
              "      <td>10</td>\n",
              "      <td>/id/resep/4473023-ayam-geprek</td>\n",
              "      <td>ayam</td>\n",
              "    </tr>\n",
              "    <tr>\n",
              "      <th>4</th>\n",
              "      <td>Minyak Ayam</td>\n",
              "      <td>400 gr kulit ayam &amp; lemaknya--8 siung bawang p...</td>\n",
              "      <td>Cuci bersih kulit ayam. Sisihkan--Ambil 50 ml ...</td>\n",
              "      <td>4</td>\n",
              "      <td>/id/resep/4427438-minyak-ayam</td>\n",
              "      <td>ayam</td>\n",
              "    </tr>\n",
              "  </tbody>\n",
              "</table>\n",
              "</div>\n",
              "    <div class=\"colab-df-buttons\">\n",
              "\n",
              "  <div class=\"colab-df-container\">\n",
              "    <button class=\"colab-df-convert\" onclick=\"convertToInteractive('df-78add98d-0ed6-43e7-8604-1e4966979cd9')\"\n",
              "            title=\"Convert this dataframe to an interactive table.\"\n",
              "            style=\"display:none;\">\n",
              "\n",
              "  <svg xmlns=\"http://www.w3.org/2000/svg\" height=\"24px\" viewBox=\"0 -960 960 960\">\n",
              "    <path d=\"M120-120v-720h720v720H120Zm60-500h600v-160H180v160Zm220 220h160v-160H400v160Zm0 220h160v-160H400v160ZM180-400h160v-160H180v160Zm440 0h160v-160H620v160ZM180-180h160v-160H180v160Zm440 0h160v-160H620v160Z\"/>\n",
              "  </svg>\n",
              "    </button>\n",
              "\n",
              "  <style>\n",
              "    .colab-df-container {\n",
              "      display:flex;\n",
              "      gap: 12px;\n",
              "    }\n",
              "\n",
              "    .colab-df-convert {\n",
              "      background-color: #E8F0FE;\n",
              "      border: none;\n",
              "      border-radius: 50%;\n",
              "      cursor: pointer;\n",
              "      display: none;\n",
              "      fill: #1967D2;\n",
              "      height: 32px;\n",
              "      padding: 0 0 0 0;\n",
              "      width: 32px;\n",
              "    }\n",
              "\n",
              "    .colab-df-convert:hover {\n",
              "      background-color: #E2EBFA;\n",
              "      box-shadow: 0px 1px 2px rgba(60, 64, 67, 0.3), 0px 1px 3px 1px rgba(60, 64, 67, 0.15);\n",
              "      fill: #174EA6;\n",
              "    }\n",
              "\n",
              "    .colab-df-buttons div {\n",
              "      margin-bottom: 4px;\n",
              "    }\n",
              "\n",
              "    [theme=dark] .colab-df-convert {\n",
              "      background-color: #3B4455;\n",
              "      fill: #D2E3FC;\n",
              "    }\n",
              "\n",
              "    [theme=dark] .colab-df-convert:hover {\n",
              "      background-color: #434B5C;\n",
              "      box-shadow: 0px 1px 3px 1px rgba(0, 0, 0, 0.15);\n",
              "      filter: drop-shadow(0px 1px 2px rgba(0, 0, 0, 0.3));\n",
              "      fill: #FFFFFF;\n",
              "    }\n",
              "  </style>\n",
              "\n",
              "    <script>\n",
              "      const buttonEl =\n",
              "        document.querySelector('#df-78add98d-0ed6-43e7-8604-1e4966979cd9 button.colab-df-convert');\n",
              "      buttonEl.style.display =\n",
              "        google.colab.kernel.accessAllowed ? 'block' : 'none';\n",
              "\n",
              "      async function convertToInteractive(key) {\n",
              "        const element = document.querySelector('#df-78add98d-0ed6-43e7-8604-1e4966979cd9');\n",
              "        const dataTable =\n",
              "          await google.colab.kernel.invokeFunction('convertToInteractive',\n",
              "                                                    [key], {});\n",
              "        if (!dataTable) return;\n",
              "\n",
              "        const docLinkHtml = 'Like what you see? Visit the ' +\n",
              "          '<a target=\"_blank\" href=https://colab.research.google.com/notebooks/data_table.ipynb>data table notebook</a>'\n",
              "          + ' to learn more about interactive tables.';\n",
              "        element.innerHTML = '';\n",
              "        dataTable['output_type'] = 'display_data';\n",
              "        await google.colab.output.renderOutput(dataTable, element);\n",
              "        const docLink = document.createElement('div');\n",
              "        docLink.innerHTML = docLinkHtml;\n",
              "        element.appendChild(docLink);\n",
              "      }\n",
              "    </script>\n",
              "  </div>\n",
              "\n",
              "\n",
              "<div id=\"df-5ce33290-0f6d-429b-9bc1-9a1e02361f2c\">\n",
              "  <button class=\"colab-df-quickchart\" onclick=\"quickchart('df-5ce33290-0f6d-429b-9bc1-9a1e02361f2c')\"\n",
              "            title=\"Suggest charts\"\n",
              "            style=\"display:none;\">\n",
              "\n",
              "<svg xmlns=\"http://www.w3.org/2000/svg\" height=\"24px\"viewBox=\"0 0 24 24\"\n",
              "     width=\"24px\">\n",
              "    <g>\n",
              "        <path d=\"M19 3H5c-1.1 0-2 .9-2 2v14c0 1.1.9 2 2 2h14c1.1 0 2-.9 2-2V5c0-1.1-.9-2-2-2zM9 17H7v-7h2v7zm4 0h-2V7h2v10zm4 0h-2v-4h2v4z\"/>\n",
              "    </g>\n",
              "</svg>\n",
              "  </button>\n",
              "\n",
              "<style>\n",
              "  .colab-df-quickchart {\n",
              "      --bg-color: #E8F0FE;\n",
              "      --fill-color: #1967D2;\n",
              "      --hover-bg-color: #E2EBFA;\n",
              "      --hover-fill-color: #174EA6;\n",
              "      --disabled-fill-color: #AAA;\n",
              "      --disabled-bg-color: #DDD;\n",
              "  }\n",
              "\n",
              "  [theme=dark] .colab-df-quickchart {\n",
              "      --bg-color: #3B4455;\n",
              "      --fill-color: #D2E3FC;\n",
              "      --hover-bg-color: #434B5C;\n",
              "      --hover-fill-color: #FFFFFF;\n",
              "      --disabled-bg-color: #3B4455;\n",
              "      --disabled-fill-color: #666;\n",
              "  }\n",
              "\n",
              "  .colab-df-quickchart {\n",
              "    background-color: var(--bg-color);\n",
              "    border: none;\n",
              "    border-radius: 50%;\n",
              "    cursor: pointer;\n",
              "    display: none;\n",
              "    fill: var(--fill-color);\n",
              "    height: 32px;\n",
              "    padding: 0;\n",
              "    width: 32px;\n",
              "  }\n",
              "\n",
              "  .colab-df-quickchart:hover {\n",
              "    background-color: var(--hover-bg-color);\n",
              "    box-shadow: 0 1px 2px rgba(60, 64, 67, 0.3), 0 1px 3px 1px rgba(60, 64, 67, 0.15);\n",
              "    fill: var(--button-hover-fill-color);\n",
              "  }\n",
              "\n",
              "  .colab-df-quickchart-complete:disabled,\n",
              "  .colab-df-quickchart-complete:disabled:hover {\n",
              "    background-color: var(--disabled-bg-color);\n",
              "    fill: var(--disabled-fill-color);\n",
              "    box-shadow: none;\n",
              "  }\n",
              "\n",
              "  .colab-df-spinner {\n",
              "    border: 2px solid var(--fill-color);\n",
              "    border-color: transparent;\n",
              "    border-bottom-color: var(--fill-color);\n",
              "    animation:\n",
              "      spin 1s steps(1) infinite;\n",
              "  }\n",
              "\n",
              "  @keyframes spin {\n",
              "    0% {\n",
              "      border-color: transparent;\n",
              "      border-bottom-color: var(--fill-color);\n",
              "      border-left-color: var(--fill-color);\n",
              "    }\n",
              "    20% {\n",
              "      border-color: transparent;\n",
              "      border-left-color: var(--fill-color);\n",
              "      border-top-color: var(--fill-color);\n",
              "    }\n",
              "    30% {\n",
              "      border-color: transparent;\n",
              "      border-left-color: var(--fill-color);\n",
              "      border-top-color: var(--fill-color);\n",
              "      border-right-color: var(--fill-color);\n",
              "    }\n",
              "    40% {\n",
              "      border-color: transparent;\n",
              "      border-right-color: var(--fill-color);\n",
              "      border-top-color: var(--fill-color);\n",
              "    }\n",
              "    60% {\n",
              "      border-color: transparent;\n",
              "      border-right-color: var(--fill-color);\n",
              "    }\n",
              "    80% {\n",
              "      border-color: transparent;\n",
              "      border-right-color: var(--fill-color);\n",
              "      border-bottom-color: var(--fill-color);\n",
              "    }\n",
              "    90% {\n",
              "      border-color: transparent;\n",
              "      border-bottom-color: var(--fill-color);\n",
              "    }\n",
              "  }\n",
              "</style>\n",
              "\n",
              "  <script>\n",
              "    async function quickchart(key) {\n",
              "      const quickchartButtonEl =\n",
              "        document.querySelector('#' + key + ' button');\n",
              "      quickchartButtonEl.disabled = true;  // To prevent multiple clicks.\n",
              "      quickchartButtonEl.classList.add('colab-df-spinner');\n",
              "      try {\n",
              "        const charts = await google.colab.kernel.invokeFunction(\n",
              "            'suggestCharts', [key], {});\n",
              "      } catch (error) {\n",
              "        console.error('Error during call to suggestCharts:', error);\n",
              "      }\n",
              "      quickchartButtonEl.classList.remove('colab-df-spinner');\n",
              "      quickchartButtonEl.classList.add('colab-df-quickchart-complete');\n",
              "    }\n",
              "    (() => {\n",
              "      let quickchartButtonEl =\n",
              "        document.querySelector('#df-5ce33290-0f6d-429b-9bc1-9a1e02361f2c button');\n",
              "      quickchartButtonEl.style.display =\n",
              "        google.colab.kernel.accessAllowed ? 'block' : 'none';\n",
              "    })();\n",
              "  </script>\n",
              "</div>\n",
              "\n",
              "    </div>\n",
              "  </div>\n"
            ],
            "application/vnd.google.colaboratory.intrinsic+json": {
              "type": "dataframe",
              "variable_name": "recipes_data",
              "summary": "{\n  \"name\": \"recipes_data\",\n  \"rows\": 15641,\n  \"fields\": [\n    {\n      \"column\": \"Title\",\n      \"properties\": {\n        \"dtype\": \"string\",\n        \"num_unique_values\": 12471,\n        \"samples\": [\n          \"Tongseng daging sapi/kambing#kitaberbagi\",\n          \"Gulai Tahu Labu Kentang\",\n          \"Tempe Orek Pedas Manis Saya Suka\"\n        ],\n        \"semantic_type\": \"\",\n        \"description\": \"\"\n      }\n    },\n    {\n      \"column\": \"Ingredients\",\n      \"properties\": {\n        \"dtype\": \"string\",\n        \"num_unique_values\": 14940,\n        \"samples\": [\n          \"100 gram daging kambing--1 sdt merica--1 sdt kemiri--10 buah brambang--5 buah bawang--1 sisir gulo abang--secukupnya  Garam--Sedikit Penyedap rasa--1 ruas Laos salam--\",\n          \"1 ekor gurami (di polong filled)--1 butir telor--Bahan tepung :--Tepung crispy (saya pakai sajiku)--secukupnya Garam--Bahan rendaman ikan :--1 Bawang putih--1/2 sdt  merica--\",\n          \"1/4 kg udang--1 scht saos tiram--2 sdm saos tomat--1 sdm saos cabe--1 bh tomat--5 bh cabe rawit--1 bh bawang bombay--5 siung bawang putih--garam, gula (secukupnya)--\"\n        ],\n        \"semantic_type\": \"\",\n        \"description\": \"\"\n      }\n    },\n    {\n      \"column\": \"Steps\",\n      \"properties\": {\n        \"dtype\": \"string\",\n        \"num_unique_values\": 14942,\n        \"samples\": [\n          \"Haluskan/giling kelapa sangrai, sisihkan--Masak santan, serai, daun jeruk, salam,daun kunyit dan bumbu yang telah dihaluskan beserta gilingan kelapa hingga mendidih (aduk terus jangan sampai pecah santan)--Bila santan telah mulai meresap atau berkurang masukkan daging (saya masukkan daging disaat kuah masih banyak karena saya ingin bumbu meresap kedalam daging dan daging lunak sebab pun saya tak rendam daging)--Masukkan kacang, garam, bubuk kaldu, bubuk kari, aduk, periksa rasa, aduk sesekali hingga kuah benar-benar kering dan mengeluarkan minyak, angkat (lama-lama rendang akan mengeluarkan minyak banyak)--Sajikan bersama pelengkap : Sambal terasi, rebusan daun ubi/pepaya--\",\n          \"Haluskan bumbu, tambahkan garam dan gula, tuangkan pada bandeng presto. Diamkan kurang lebih 1 jam.--Iris serong cabe ijo. Campur.--Bungkus bandeng presto yg sudah dicampur bumbu halus dan cabe ijo.--Kukus selama 40 menit. Panggang di wajan anti lengket supaya kering. Pepes bandeng presto siap dihidangkan.--\",\n          \"Siapkan tahu goreng, gunting sedikit salah satu sisinya kemudian buat spt kantong pada tahu lalu balik kantong tahu mnjadi yg putih diluar dan yang coklat didalam--Isi kantong tahu dgn adonan pentol. goreng dgn minyak banyak dan panas, goreng hingga matang--Sajikan dgn cocolan saos dsb--\"\n        ],\n        \"semantic_type\": \"\",\n        \"description\": \"\"\n      }\n    },\n    {\n      \"column\": \"Loves\",\n      \"properties\": {\n        \"dtype\": \"number\",\n        \"std\": 21,\n        \"min\": 0,\n        \"max\": 939,\n        \"num_unique_values\": 185,\n        \"samples\": [\n          5,\n          24,\n          99\n        ],\n        \"semantic_type\": \"\",\n        \"description\": \"\"\n      }\n    },\n    {\n      \"column\": \"URL\",\n      \"properties\": {\n        \"dtype\": \"string\",\n        \"num_unique_values\": 14992,\n        \"samples\": [\n          \"/id/resep/184688-abon-kambing-daun-jeruk\",\n          \"/id/resep/4018869-tumis-pedas-tempe-bakso\",\n          \"/id/resep/4308548-egg-bhurji-tumis-telur-gobal-gabul-indian-style\"\n        ],\n        \"semantic_type\": \"\",\n        \"description\": \"\"\n      }\n    },\n    {\n      \"column\": \"category\",\n      \"properties\": {\n        \"dtype\": \"category\",\n        \"num_unique_values\": 8,\n        \"samples\": [\n          \"ikan\",\n          \"telur\",\n          \"ayam\"\n        ],\n        \"semantic_type\": \"\",\n        \"description\": \"\"\n      }\n    }\n  ]\n}"
            }
          },
          "metadata": {},
          "execution_count": 2
        }
      ]
    },
    {
      "cell_type": "code",
      "source": [
        "# Hapus Duplikasi\n",
        "df.drop_duplicates(inplace=True)"
      ],
      "metadata": {
        "id": "4AYyY4LKkxR3"
      },
      "execution_count": null,
      "outputs": []
    },
    {
      "cell_type": "code",
      "source": [
        "# Jumlah missing value per kolom\n",
        "print(recipes_data.isnull().sum())"
      ],
      "metadata": {
        "colab": {
          "base_uri": "https://localhost:8080/"
        },
        "id": "WpjCJMgWlYlb",
        "outputId": "26e6740b-955d-4ed7-aaa2-364f8e797f36"
      },
      "execution_count": null,
      "outputs": [
        {
          "output_type": "stream",
          "name": "stdout",
          "text": [
            "Title           0\n",
            "Ingredients    48\n",
            "Steps          46\n",
            "Loves           0\n",
            "URL             0\n",
            "category        0\n",
            "dtype: int64\n"
          ]
        }
      ]
    },
    {
      "cell_type": "code",
      "source": [
        "# Menghapus baris yang memiliki missing value\n",
        "recipes_data = recipes_data.dropna()\n",
        "\n",
        "# Cek kembali missing value setelah penghapusan\n",
        "print(recipes_data.isnull().sum())\n"
      ],
      "metadata": {
        "colab": {
          "base_uri": "https://localhost:8080/"
        },
        "id": "HCyQr9TMmA_T",
        "outputId": "7f3bc729-1750-4b6f-88a8-5643fb83082b"
      },
      "execution_count": null,
      "outputs": [
        {
          "output_type": "stream",
          "name": "stdout",
          "text": [
            "Title          0\n",
            "Ingredients    0\n",
            "Steps          0\n",
            "Loves          0\n",
            "URL            0\n",
            "category       0\n",
            "dtype: int64\n"
          ]
        }
      ]
    },
    {
      "cell_type": "code",
      "source": [
        "# Cek Tipe Data\n",
        "print(recipes_data.dtypes)"
      ],
      "metadata": {
        "colab": {
          "base_uri": "https://localhost:8080/"
        },
        "id": "rGtoS3rNmNqh",
        "outputId": "6fdc2c7a-9faf-4a6b-a38f-3f38d1a5a249"
      },
      "execution_count": null,
      "outputs": [
        {
          "output_type": "stream",
          "name": "stdout",
          "text": [
            "Title          object\n",
            "Ingredients    object\n",
            "Steps          object\n",
            "Loves           int64\n",
            "URL            object\n",
            "category       object\n",
            "dtype: object\n"
          ]
        }
      ]
    },
    {
      "cell_type": "code",
      "source": [
        "# Validasi Format URL\n",
        "import re\n",
        "def validate_url(url):\n",
        "    regex = r'^https?:\\/\\/.*'\n",
        "    return bool(re.match(regex, url))\n",
        "\n",
        "recipes_data['valid_url'] = recipes_data['URL'].apply(validate_url)\n",
        "print(recipes_data['valid_url'].value_counts())  # Pastikan semua URL valid\n"
      ],
      "metadata": {
        "colab": {
          "base_uri": "https://localhost:8080/"
        },
        "id": "rX331uTtmZSu",
        "outputId": "07febc8e-948e-4f55-e28c-0896cf5ee07f"
      },
      "execution_count": null,
      "outputs": [
        {
          "output_type": "stream",
          "name": "stdout",
          "text": [
            "valid_url\n",
            "False    15593\n",
            "Name: count, dtype: int64\n"
          ]
        }
      ]
    },
    {
      "cell_type": "code",
      "source": [
        "# Menambahkan \"https://\" jika URL tidak dimulai dengan protokol\n",
        "recipes_data['URL'] = recipes_data['URL'].apply(\n",
        "    lambda x: f\"https://{x}\" if not x.startswith((\"http://\", \"https://\")) else x\n",
        ")\n",
        "\n",
        "# Validasi Ulang\n",
        "recipes_data['valid_url'] = recipes_data['URL'].apply(validate_url)\n",
        "print(recipes_data['valid_url'].value_counts())\n"
      ],
      "metadata": {
        "colab": {
          "base_uri": "https://localhost:8080/"
        },
        "id": "xshOFGimmuMt",
        "outputId": "f534581b-0344-4f54-859e-8aa331464cae"
      },
      "execution_count": null,
      "outputs": [
        {
          "output_type": "stream",
          "name": "stdout",
          "text": [
            "valid_url\n",
            "True    15593\n",
            "Name: count, dtype: int64\n"
          ]
        }
      ]
    },
    {
      "cell_type": "code",
      "source": [
        "# Check isi dataset\n",
        "print(recipes_data)\n"
      ],
      "metadata": {
        "colab": {
          "base_uri": "https://localhost:8080/"
        },
        "id": "ZDAEVxUkmx5n",
        "outputId": "73583bbd-2db2-4d85-95a7-36bc2e06dfaa"
      },
      "execution_count": null,
      "outputs": [
        {
          "output_type": "stream",
          "name": "stdout",
          "text": [
            "                          Title  \\\n",
            "0              Ayam Woku Manado   \n",
            "1      Ayam goreng tulang lunak   \n",
            "2              Ayam cabai kawin   \n",
            "3                   Ayam Geprek   \n",
            "4                   Minyak Ayam   \n",
            "...                         ...   \n",
            "15636   Tempe mendol jawa timur   \n",
            "15637        Tempe goreng gurih   \n",
            "15638    Oseng tempe Lombok ijo   \n",
            "15639   Tahu tempe bumbu kuning   \n",
            "15640             Keripik tempe   \n",
            "\n",
            "                                             Ingredients  \\\n",
            "0      1 Ekor Ayam Kampung (potong 12)--2 Buah Jeruk ...   \n",
            "1      1 kg ayam (dipotong sesuai selera jangan kecil...   \n",
            "2      1/4 kg ayam--3 buah cabai hijau besar--7 buah ...   \n",
            "3      250 gr daging ayam (saya pakai fillet)--Secuku...   \n",
            "4      400 gr kulit ayam & lemaknya--8 siung bawang p...   \n",
            "...                                                  ...   \n",
            "15636  1 papan tempe--2 bawang putih--4 bawang merah-...   \n",
            "15637  1 papan tempe--2-3 siung bawang putih--+ 1cm k...   \n",
            "15638  1/4 papan tempe--11 Lombok ijo--1 cabe rawit m...   \n",
            "15639  Tahu--Tempe--Bumbu:--2 bawang putih--4 bawang ...   \n",
            "15640  500 gram bakal tempe--300 gram tepung tapioka-...   \n",
            "\n",
            "                                                   Steps  Loves  \\\n",
            "0      Cuci bersih ayam dan tiriskan. Lalu peras jeru...      1   \n",
            "1      Haluskan bumbu2nya (BaPut, ketumbar, kemiri, k...      1   \n",
            "2      Panaskan minyak di dalam wajan. Setelah minyak...      2   \n",
            "3      Goreng ayam seperti ayam krispi--Ulek semua ba...     10   \n",
            "4      Cuci bersih kulit ayam. Sisihkan--Ambil 50 ml ...      4   \n",
            "...                                                  ...    ...   \n",
            "15636  Siapkan bahan, tempe yg sudah dikukus (biar ng...      4   \n",
            "15637  Potong sesuai selera tempe.--Kupas bawang puti...      2   \n",
            "15638  Potong tempe menurut selera.cuci tiriskan--Gor...      7   \n",
            "15639  Uleg bumbu-bumbu lalu tumis masukan daun salam...     29   \n",
            "15640  Langkah pertma remas bakal tempe dengan tapiok...      8   \n",
            "\n",
            "                                                     URL category  valid_url  \n",
            "0             https:///id/resep/4473027-ayam-woku-manado     ayam       True  \n",
            "1      https:///id/resep/4471956-ayam-goreng-tulang-l...     ayam       True  \n",
            "2             https:///id/resep/4473057-ayam-cabai-kawin     ayam       True  \n",
            "3                  https:///id/resep/4473023-ayam-geprek     ayam       True  \n",
            "4                  https:///id/resep/4427438-minyak-ayam     ayam       True  \n",
            "...                                                  ...      ...        ...  \n",
            "15636  https:///id/resep/3944154-tempe-mendol-jawa-timur    tempe       True  \n",
            "15637       https:///id/resep/3944200-tempe-goreng-gurih    tempe       True  \n",
            "15638   https:///id/resep/3943987-oseng-tempe-lombok-ijo    tempe       True  \n",
            "15639  https:///id/resep/3943872-tahu-tempe-bumbu-kuning    tempe       True  \n",
            "15640            https:///id/resep/3942205-keripik-tempe    tempe       True  \n",
            "\n",
            "[15593 rows x 7 columns]\n"
          ]
        }
      ]
    },
    {
      "cell_type": "code",
      "source": [
        "# Tambah prefix cookpad.com\n",
        "recipes_data['URL'] = recipes_data['URL'].str.replace(\n",
        "    'https:///', 'https://cookpad.com/', regex=False\n",
        ")\n",
        "\n",
        "# Cek beberapa URL\n",
        "print(recipes_data['URL'].head(10))\n",
        "\n",
        "# Validasi ulang jika perlu\n",
        "def validate_url(url):\n",
        "    regex = r'^https:\\/\\/cookpad\\.com\\/.*'\n",
        "    return bool(re.match(regex, url))\n",
        "\n",
        "recipes_data['valid_url'] = recipes_data['URL'].apply(validate_url)\n",
        "print(recipes_data['valid_url'].value_counts())\n"
      ],
      "metadata": {
        "colab": {
          "base_uri": "https://localhost:8080/"
        },
        "id": "2mMGY5Uenh1u",
        "outputId": "9a4097e0-5330-41c5-9057-2b65a60bd458"
      },
      "execution_count": null,
      "outputs": [
        {
          "output_type": "stream",
          "name": "stdout",
          "text": [
            "0    https://cookpad.com/id/resep/4473027-ayam-woku...\n",
            "1    https://cookpad.com/id/resep/4471956-ayam-gore...\n",
            "2    https://cookpad.com/id/resep/4473057-ayam-caba...\n",
            "3     https://cookpad.com/id/resep/4473023-ayam-geprek\n",
            "4     https://cookpad.com/id/resep/4427438-minyak-ayam\n",
            "5    https://cookpad.com/id/resep/4472552-nasi-baka...\n",
            "6    https://cookpad.com/id/resep/4437475-ayam-saus...\n",
            "7    https://cookpad.com/id/resep/4472877-ayam-saos...\n",
            "8      https://cookpad.com/id/resep/4472822-steak-ayam\n",
            "9    https://cookpad.com/id/resep/4472901-ayam-saos...\n",
            "Name: URL, dtype: object\n",
            "valid_url\n",
            "True    15593\n",
            "Name: count, dtype: int64\n"
          ]
        }
      ]
    },
    {
      "cell_type": "code",
      "source": [
        "# Cleaning kolom Ingredients\n",
        "\n",
        "import re\n",
        "# Fungsi untuk membersihkan kolom Ingredients\n",
        "def clean_ingredients(ingredients):\n",
        "    # Ubah semua teks menjadi huruf kecil\n",
        "    ingredients = ingredients.lower()\n",
        "    # Hapus karakter yang tidak diperlukan seperti tanda baca\n",
        "    ingredients = re.sub(r'[^\\w\\s]', '', ingredients)\n",
        "    # Pecah bahan menjadi daftar kata\n",
        "    ingredients = ingredients.split()\n",
        "    return ' '.join(ingredients)  # Gabungkan kembali menjadi string\n",
        "\n",
        "# Terapkan fungsi ini ke kolom Ingredients\n",
        "recipes_data['clean_ingredients'] = recipes_data['Ingredients'].apply(clean_ingredients)\n",
        "\n",
        "# Lihat hasil cleaning\n",
        "print(recipes_data[['Ingredients', 'clean_ingredients']].head())\n"
      ],
      "metadata": {
        "colab": {
          "base_uri": "https://localhost:8080/"
        },
        "id": "KbEOYjj_ry_Z",
        "outputId": "42b9bb79-987e-4f2d-aedb-32b1af47c985"
      },
      "execution_count": null,
      "outputs": [
        {
          "output_type": "stream",
          "name": "stdout",
          "text": [
            "                                         Ingredients  \\\n",
            "0  1 Ekor Ayam Kampung (potong 12)--2 Buah Jeruk ...   \n",
            "1  1 kg ayam (dipotong sesuai selera jangan kecil...   \n",
            "2  1/4 kg ayam--3 buah cabai hijau besar--7 buah ...   \n",
            "3  250 gr daging ayam (saya pakai fillet)--Secuku...   \n",
            "4  400 gr kulit ayam & lemaknya--8 siung bawang p...   \n",
            "\n",
            "                                   clean_ingredients  \n",
            "0  1 ekor ayam kampung potong 122 buah jeruk nipi...  \n",
            "1  1 kg ayam dipotong sesuai selera jangan kecil2...  \n",
            "2  14 kg ayam3 buah cabai hijau besar7 buah cabai...  \n",
            "3  250 gr daging ayam saya pakai filletsecukupnya...  \n",
            "4  400 gr kulit ayam lemaknya8 siung bawang putih...  \n"
          ]
        }
      ]
    },
    {
      "cell_type": "code",
      "source": [
        "# Save dataset yang sudah bersih menjadi CSV\n",
        "recipes_data.to_csv('food_recipes.csv', index=False)"
      ],
      "metadata": {
        "id": "R3TfptIRn_Vw"
      },
      "execution_count": null,
      "outputs": []
    },
    {
      "cell_type": "code",
      "source": [
        "# Download clean dataset\n",
        "from google.colab import files\n",
        "files.download('food_recipes.csv')\n"
      ],
      "metadata": {
        "colab": {
          "base_uri": "https://localhost:8080/",
          "height": 17
        },
        "id": "1QuWiQSbotI-",
        "outputId": "eaf20e13-ff4c-4eb6-fc5c-c3b6938c9676"
      },
      "execution_count": null,
      "outputs": [
        {
          "output_type": "display_data",
          "data": {
            "text/plain": [
              "<IPython.core.display.Javascript object>"
            ],
            "application/javascript": [
              "\n",
              "    async function download(id, filename, size) {\n",
              "      if (!google.colab.kernel.accessAllowed) {\n",
              "        return;\n",
              "      }\n",
              "      const div = document.createElement('div');\n",
              "      const label = document.createElement('label');\n",
              "      label.textContent = `Downloading \"${filename}\": `;\n",
              "      div.appendChild(label);\n",
              "      const progress = document.createElement('progress');\n",
              "      progress.max = size;\n",
              "      div.appendChild(progress);\n",
              "      document.body.appendChild(div);\n",
              "\n",
              "      const buffers = [];\n",
              "      let downloaded = 0;\n",
              "\n",
              "      const channel = await google.colab.kernel.comms.open(id);\n",
              "      // Send a message to notify the kernel that we're ready.\n",
              "      channel.send({})\n",
              "\n",
              "      for await (const message of channel.messages) {\n",
              "        // Send a message to notify the kernel that we're ready.\n",
              "        channel.send({})\n",
              "        if (message.buffers) {\n",
              "          for (const buffer of message.buffers) {\n",
              "            buffers.push(buffer);\n",
              "            downloaded += buffer.byteLength;\n",
              "            progress.value = downloaded;\n",
              "          }\n",
              "        }\n",
              "      }\n",
              "      const blob = new Blob(buffers, {type: 'application/binary'});\n",
              "      const a = document.createElement('a');\n",
              "      a.href = window.URL.createObjectURL(blob);\n",
              "      a.download = filename;\n",
              "      div.appendChild(a);\n",
              "      a.click();\n",
              "      div.remove();\n",
              "    }\n",
              "  "
            ]
          },
          "metadata": {}
        },
        {
          "output_type": "display_data",
          "data": {
            "text/plain": [
              "<IPython.core.display.Javascript object>"
            ],
            "application/javascript": [
              "download(\"download_41ea63e2-3fbb-4732-ad92-6dc42b454841\", \"food_recipes.csv\", 17100569)"
            ]
          },
          "metadata": {}
        }
      ]
    }
  ]
}